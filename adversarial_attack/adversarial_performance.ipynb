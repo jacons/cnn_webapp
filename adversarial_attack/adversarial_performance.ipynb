{
 "cells": [
  {
   "metadata": {
    "ExecuteTime": {
     "end_time": "2025-07-07T16:10:36.303256Z",
     "start_time": "2025-07-07T16:10:34.807734Z"
    }
   },
   "cell_type": "code",
   "source": [
    "import torch\n",
    "\n",
    "from model.resnet_model import CNNClassifier\n",
    "from torch.utils.data import DataLoader\n",
    "from pathlib import Path\n",
    "from ml_utils import CustomDataset\n",
    "\n",
    "from sklearn.metrics import f1_score, accuracy_score\n",
    "from torch.nn import CrossEntropyLoss"
   ],
   "id": "10cd4925cbcab4f1",
   "outputs": [],
   "execution_count": 1
  },
  {
   "cell_type": "code",
   "id": "initial_id",
   "metadata": {
    "collapsed": true,
    "ExecuteTime": {
     "end_time": "2025-07-07T16:10:36.567967Z",
     "start_time": "2025-07-07T16:10:36.400464Z"
    }
   },
   "source": [
    "test_dt = CustomDataset(data_path=Path(\"../datasets/car_dataset\"), portion=\"test\")\n",
    "test_loader = DataLoader(test_dt, batch_size=64, shuffle=True, num_workers=4)\n",
    "\n",
    "cls = CNNClassifier(num_classes=196, pretrained=True, model_name=\"resnet18\", freeze_layers=0)\n",
    "cls.load_state_dict(torch.load(\"../experiments/results/r18_pretrained_fre0.pth\", weights_only=True))\n",
    "cls.eval()\n",
    "cls = cls.to(\"mps\")"
   ],
   "outputs": [],
   "execution_count": 2
  },
  {
   "metadata": {
    "ExecuteTime": {
     "end_time": "2025-07-07T16:14:47.606920Z",
     "start_time": "2025-07-07T16:10:36.575037Z"
    }
   },
   "cell_type": "code",
   "source": [
    "from tqdm import tqdm\n",
    "\n",
    "preds, trues = [], []\n",
    "criterion = CrossEntropyLoss().to(\"mps\")\n",
    "\n",
    "for idx, (x, y) in enumerate(tqdm(test_loader), 1):\n",
    "    x, y = x.to(\"mps\"), y.to(\"mps\")\n",
    "    x.requires_grad_(True)\n",
    "\n",
    "    loss = criterion(cls(x), y)\n",
    "    cls.zero_grad()\n",
    "    loss.backward()\n",
    "\n",
    "    with torch.no_grad():\n",
    "        adv_logits = cls(x + .007 * torch.sign(x.grad))\n",
    "\n",
    "    predictions = torch.argmax(adv_logits, dim=1)\n",
    "    preds.append(predictions)\n",
    "    trues.append(y)\n",
    "\n",
    "# Concatenate all predictions, true labels, and losses\n",
    "preds = torch.cat(preds).cpu().numpy()\n",
    "trues = torch.cat(trues).cpu().numpy()\n",
    "\n",
    "f1_mean = f1_score(trues, preds, average='weighted')\n",
    "acc_mean = accuracy_score(trues, preds)"
   ],
   "id": "57b5974ee7a526a2",
   "outputs": [
    {
     "name": "stderr",
     "output_type": "stream",
     "text": [
      "100%|██████████| 126/126 [04:10<00:00,  1.99s/it]\n"
     ]
    }
   ],
   "execution_count": 3
  },
  {
   "metadata": {
    "ExecuteTime": {
     "end_time": "2025-07-07T16:16:26.286166Z",
     "start_time": "2025-07-07T16:16:26.282414Z"
    }
   },
   "cell_type": "code",
   "source": "f1_mean",
   "id": "c8017e94319d565",
   "outputs": [
    {
     "data": {
      "text/plain": [
       "0.12186538816469347"
      ]
     },
     "execution_count": 6,
     "metadata": {},
     "output_type": "execute_result"
    }
   ],
   "execution_count": 6
  },
  {
   "metadata": {
    "ExecuteTime": {
     "end_time": "2025-07-07T16:16:27.246976Z",
     "start_time": "2025-07-07T16:16:27.243266Z"
    }
   },
   "cell_type": "code",
   "source": "acc_mean",
   "id": "1b4434aeee5cd5ab",
   "outputs": [
    {
     "data": {
      "text/plain": [
       "0.11677652033329187"
      ]
     },
     "execution_count": 7,
     "metadata": {},
     "output_type": "execute_result"
    }
   ],
   "execution_count": 7
  }
 ],
 "metadata": {
  "kernelspec": {
   "display_name": "Python 3",
   "language": "python",
   "name": "python3"
  },
  "language_info": {
   "codemirror_mode": {
    "name": "ipython",
    "version": 2
   },
   "file_extension": ".py",
   "mimetype": "text/x-python",
   "name": "python",
   "nbconvert_exporter": "python",
   "pygments_lexer": "ipython2",
   "version": "2.7.6"
  }
 },
 "nbformat": 4,
 "nbformat_minor": 5
}
