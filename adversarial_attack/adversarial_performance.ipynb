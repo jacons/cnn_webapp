{
 "cells": [
  {
   "metadata": {
    "ExecuteTime": {
     "end_time": "2025-07-10T14:34:28.934248Z",
     "start_time": "2025-07-10T14:34:28.931289Z"
    }
   },
   "cell_type": "code",
   "source": [
    "import numpy as np\n",
    "import torch\n",
    "\n",
    "from model.resnet_model import CNNClassifier\n",
    "from torch.utils.data import DataLoader\n",
    "from pathlib import Path\n",
    "from ml_utils import CustomDataset\n",
    "\n",
    "from sklearn.metrics import f1_score, accuracy_score\n",
    "from torch.nn import CrossEntropyLoss\n",
    "\n",
    "from scipy.stats import entropy"
   ],
   "id": "10cd4925cbcab4f1",
   "outputs": [],
   "execution_count": 5
  },
  {
   "metadata": {
    "ExecuteTime": {
     "end_time": "2025-07-10T14:34:29.166361Z",
     "start_time": "2025-07-10T14:34:29.164556Z"
    }
   },
   "cell_type": "code",
   "source": "device = \"mps\"",
   "id": "c70649bb0d514fdf",
   "outputs": [],
   "execution_count": 6
  },
  {
   "cell_type": "code",
   "id": "initial_id",
   "metadata": {
    "collapsed": true,
    "ExecuteTime": {
     "end_time": "2025-07-10T14:34:29.561637Z",
     "start_time": "2025-07-10T14:34:29.357565Z"
    }
   },
   "source": [
    "test_dt = CustomDataset(data_path=Path(\"../datasets/car_dataset\"), portion=\"test\")\n",
    "test_loader = DataLoader(test_dt, batch_size=64, shuffle=True, num_workers=4)\n",
    "\n",
    "cls = CNNClassifier(num_classes=196, pretrained=True, model_name=\"resnet18\", freeze_layers=0)\n",
    "cls.load_state_dict(torch.load(\"../experiments/results/r18_pretrained_fre0.pth\", weights_only=True))\n",
    "cls.eval()\n",
    "cls = cls.to(device)"
   ],
   "outputs": [],
   "execution_count": 7
  },
  {
   "metadata": {
    "ExecuteTime": {
     "end_time": "2025-07-10T14:38:41.037189Z",
     "start_time": "2025-07-10T14:34:29.747622Z"
    }
   },
   "cell_type": "code",
   "source": [
    "from tqdm import tqdm\n",
    "\n",
    "preds, trues, entropy_list = [], [], []\n",
    "criterion = CrossEntropyLoss().to(device)\n",
    "\n",
    "for idx, (x, y) in enumerate(tqdm(test_loader), 1):\n",
    "    x, y = x.to(device), y.to(device)\n",
    "    x.requires_grad_(True)\n",
    "\n",
    "    loss = criterion(cls(x), y)\n",
    "    cls.zero_grad()\n",
    "    loss.backward()\n",
    "\n",
    "    with torch.no_grad():\n",
    "        adv_logits = cls(x + .007 * torch.sign(x.grad))\n",
    "        entropy_list.append(entropy(torch.softmax(adv_logits, dim=1).cpu().numpy()))\n",
    "\n",
    "    predictions = torch.argmax(adv_logits, dim=1)\n",
    "    preds.append(predictions)\n",
    "    trues.append(y)\n",
    "\n",
    "# Concatenate all predictions, true labels, and losses\n",
    "preds = torch.cat(preds).cpu().numpy()\n",
    "trues = torch.cat(trues).cpu().numpy()\n",
    "entropy_list = torch.tensor(np.asarray(entropy_list))\n",
    "\n",
    "f1_mean = f1_score(trues, preds, average='weighted')\n",
    "acc_mean = accuracy_score(trues, preds)"
   ],
   "id": "57b5974ee7a526a2",
   "outputs": [
    {
     "name": "stderr",
     "output_type": "stream",
     "text": [
      "100%|██████████| 126/126 [04:11<00:00,  1.99s/it]\n",
      "/var/folders/09/gz7wkjb96v1dzq_xpbf9gv5h0000gn/T/ipykernel_13975/2174783170.py:25: UserWarning: Creating a tensor from a list of numpy.ndarrays is extremely slow. Please consider converting the list to a single numpy.ndarray with numpy.array() before converting to a tensor. (Triggered internally at /Users/runner/work/pytorch/pytorch/pytorch/torch/csrc/utils/tensor_new.cpp:257.)\n",
      "  entropy_list = torch.tensor(entropy_list)\n"
     ]
    }
   ],
   "execution_count": 8
  },
  {
   "metadata": {
    "ExecuteTime": {
     "end_time": "2025-07-10T14:38:41.260844Z",
     "start_time": "2025-07-10T14:38:41.256323Z"
    }
   },
   "cell_type": "code",
   "source": "print(entropy_list.mean(), entropy_list.std())",
   "id": "96e335f152d620ce",
   "outputs": [
    {
     "name": "stdout",
     "output_type": "stream",
     "text": [
      "tensor(2.6242) tensor(0.8007)\n"
     ]
    }
   ],
   "execution_count": 9
  },
  {
   "metadata": {
    "ExecuteTime": {
     "end_time": "2025-07-10T14:38:41.466988Z",
     "start_time": "2025-07-10T14:38:41.463171Z"
    }
   },
   "cell_type": "code",
   "source": "f1_mean",
   "id": "c8017e94319d565",
   "outputs": [
    {
     "data": {
      "text/plain": [
       "0.12186538816469347"
      ]
     },
     "execution_count": 10,
     "metadata": {},
     "output_type": "execute_result"
    }
   ],
   "execution_count": 10
  },
  {
   "metadata": {
    "ExecuteTime": {
     "end_time": "2025-07-10T14:38:41.655804Z",
     "start_time": "2025-07-10T14:38:41.652844Z"
    }
   },
   "cell_type": "code",
   "source": "acc_mean",
   "id": "1b4434aeee5cd5ab",
   "outputs": [
    {
     "data": {
      "text/plain": [
       "0.11677652033329187"
      ]
     },
     "execution_count": 11,
     "metadata": {},
     "output_type": "execute_result"
    }
   ],
   "execution_count": 11
  }
 ],
 "metadata": {
  "kernelspec": {
   "display_name": "Python 3",
   "language": "python",
   "name": "python3"
  },
  "language_info": {
   "codemirror_mode": {
    "name": "ipython",
    "version": 2
   },
   "file_extension": ".py",
   "mimetype": "text/x-python",
   "name": "python",
   "nbconvert_exporter": "python",
   "pygments_lexer": "ipython2",
   "version": "2.7.6"
  }
 },
 "nbformat": 4,
 "nbformat_minor": 5
}
