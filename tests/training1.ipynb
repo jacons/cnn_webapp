{
 "cells": [
  {
   "cell_type": "code",
   "id": "53b63cbe984195d2",
   "metadata": {},
   "source": [
    "%reload_ext autoreload\n",
    "%autoreload 2"
   ],
   "outputs": [],
   "execution_count": null
  },
  {
   "cell_type": "code",
   "id": "4f28413e2ee5055b",
   "metadata": {},
   "source": [
    "import json \n",
    "\n",
    "from pathlib import Path\n",
    "\n",
    "import pandas as pd\n",
    "import torch\n",
    "from torch.utils.data import DataLoader\n",
    "from torch import optim\n",
    "\n",
    "\n",
    "from ml_utils import CustomDataset\n",
    "from training import train_classifier\n",
    "from model.resnet_model import CNNClassifier"
   ],
   "outputs": [],
   "execution_count": null
  },
  {
   "cell_type": "code",
   "id": "3539762961519165",
   "metadata": {},
   "source": [
    "train_dt = CustomDataset(data_path=Path(\"../datasets/car_dataset\"), portion=\"train\")\n",
    "train_loader = DataLoader(train_dt,\n",
    "                          batch_size=150, shuffle=True, num_workers=4)\n",
    "\n",
    "valid_dt = CustomDataset(data_path=Path(\"../datasets/car_dataset\"), portion=\"valid\")\n",
    "valid_loader = DataLoader(valid_dt,\n",
    "                          batch_size=150, shuffle=True, num_workers=4)"
   ],
   "outputs": [],
   "execution_count": null
  },
  {
   "cell_type": "code",
   "id": "1da61014121c982c",
   "metadata": {},
   "source": [
    "cls = CNNClassifier(num_classes=196, pretrained=True)\n",
    "# cls.load_state_dict(torch.load(\"./models/resnet_finetune_50e.pth\", weights_only=True))\n",
    "# cls.freeze_first_n_layers(n_layers=7)"
   ],
   "outputs": [],
   "execution_count": null
  },
  {
   "cell_type": "code",
   "id": "de61e07d893692db",
   "metadata": {},
   "source": [
    "metric_history = Path(\"./saved_models/test1/test.json\")\n",
    "with metric_history.open(\"w\") as file:\n",
    "    json.dump([], file)"
   ],
   "outputs": [],
   "execution_count": null
  },
  {
   "cell_type": "code",
   "id": "5bc36c73",
   "metadata": {},
   "source": [
    "# !export CUDA_VISIBLE_DEVICES=3"
   ],
   "outputs": [],
   "execution_count": null
  },
  {
   "cell_type": "code",
   "id": "initial_id",
   "metadata": {
    "collapsed": true
   },
   "source": [
    "train_classifier(\n",
    "    model=cls,\n",
    "    dataset=(train_loader, valid_loader),\n",
    "    optimizer=optim.Adam,\n",
    "    scheduler=optim.lr_scheduler.ReduceLROnPlateau,\n",
    "    num_epochs=1,\n",
    "    opt_params=dict(lr=0.001),\n",
    "    sc_params=dict(mode=\"max\", patience=3, threshold=0.9),\n",
    "    metric_history=metric_history,\n",
    "    model_cache=\"./saved_models/test1/model.pth\",\n",
    "    patience=5,\n",
    "    device='cuda:0',\n",
    "    current_state=dict()\n",
    ")"
   ],
   "outputs": [],
   "execution_count": null
  },
  {
   "cell_type": "code",
   "id": "569ea803",
   "metadata": {},
   "source": [
    "# hist_dt = pd.read_json(metric_history)"
   ],
   "outputs": [],
   "execution_count": null
  },
  {
   "cell_type": "code",
   "id": "3ba0ad82ae36761d",
   "metadata": {},
   "source": [
    "# import matplotlib.pyplot as plt\n",
    "# import seaborn as sns\n",
    "# sns.set_style(\"darkgrid\")"
   ],
   "outputs": [],
   "execution_count": null
  },
  {
   "cell_type": "code",
   "id": "8319dc95287e8077",
   "metadata": {},
   "source": [
    "# f, axs = plt.subplots(nrows=1, ncols=2, figsize = (16,5))\n",
    "#\n",
    "# epochs = [*range(len(hist_dt))]\n",
    "#\n",
    "#\n",
    "# sns.lineplot(x=epochs, y=hist_dt.train_loss, ax=axs[0], label='Training Loss')\n",
    "# axs[0].fill_between(epochs, hist_dt.train_loss - hist_dt.train_loss_std, hist_dt.train_loss + hist_dt.train_loss_std, alpha=0.2)\n",
    "#\n",
    "#\n",
    "# sns.lineplot(x=epochs, y=hist_dt.valid_loss, ax=axs[0], label='Validation Loss')\n",
    "# axs[0].fill_between(epochs, hist_dt.valid_loss - hist_dt.valid_loss_std, hist_dt.valid_loss + hist_dt.valid_loss_std, alpha=0.2)\n",
    "#\n",
    "# sns.lineplot(x=epochs,y=hist_dt.valid_f1, ax=axs[1], label='Validation F1 Score')\n",
    "# sns.lineplot(x=epochs,y=hist_dt.valid_acc, ax=axs[1], label='Validation Accuracy')\n",
    "#\n",
    "# axs[0].set_title('Training and Validation Loss')\n",
    "# axs[0].set_xlabel('Epoch', fontsize=12)\n",
    "# axs[0].set_ylabel('Loss', fontsize=12)\n",
    "# axs[0].set_xticks(epochs)\n",
    "# axs[0].set_xticklabels([i if i%1==0  else \"\" for i in epochs])\n",
    "# #axs[0].set_ylim(0,5)\n",
    "# axs[0].grid(True)\n",
    "#\n",
    "# axs[1].set_title('F1 validation')\n",
    "# axs[1].set_xlabel('Epoch', fontsize=12)\n",
    "# axs[1].set_ylabel('F1', fontsize=12)\n",
    "# axs[1].set_xticks(epochs)\n",
    "# axs[1].set_xticklabels([i if i%1==0  else \"\" for i in epochs])\n",
    "# axs[1].grid(True)\n",
    "#\n",
    "# plt.tight_layout()\n",
    "# plt.show()"
   ],
   "outputs": [],
   "execution_count": null
  }
 ],
 "metadata": {
  "kernelspec": {
   "display_name": "venv",
   "language": "python",
   "name": "python3"
  },
  "language_info": {
   "codemirror_mode": {
    "name": "ipython",
    "version": 3
   },
   "file_extension": ".py",
   "mimetype": "text/x-python",
   "name": "python",
   "nbconvert_exporter": "python",
   "pygments_lexer": "ipython3",
   "version": "3.8.10"
  }
 },
 "nbformat": 4,
 "nbformat_minor": 5
}
