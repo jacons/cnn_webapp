{
 "cells": [
  {
   "metadata": {
    "ExecuteTime": {
     "end_time": "2025-08-19T09:17:31.359362Z",
     "start_time": "2025-08-19T09:17:29.841722Z"
    }
   },
   "cell_type": "code",
   "source": [
    "from pathlib import Path\n",
    "\n",
    "import numpy as np\n",
    "import torch\n",
    "from scipy.stats import entropy\n",
    "from sklearn.metrics import f1_score, accuracy_score\n",
    "from torch.nn import CrossEntropyLoss\n",
    "from torch.utils.data import DataLoader\n",
    "\n",
    "from ml_utils import CustomDataset\n",
    "from model.resnet_model import CNNClassifier"
   ],
   "id": "10cd4925cbcab4f1",
   "outputs": [],
   "execution_count": 1
  },
  {
   "metadata": {
    "ExecuteTime": {
     "end_time": "2025-08-19T09:17:31.365742Z",
     "start_time": "2025-08-19T09:17:31.363350Z"
    }
   },
   "cell_type": "code",
   "source": "device = \"mps\"",
   "id": "c70649bb0d514fdf",
   "outputs": [],
   "execution_count": 2
  },
  {
   "cell_type": "code",
   "id": "initial_id",
   "metadata": {
    "collapsed": true,
    "ExecuteTime": {
     "end_time": "2025-08-19T09:17:31.562841Z",
     "start_time": "2025-08-19T09:17:31.368396Z"
    }
   },
   "source": [
    "test_dt = CustomDataset(data_path=Path(\"../datasets/car_dataset\"), portion=\"test\")\n",
    "test_loader = DataLoader(test_dt, batch_size=64, shuffle=True, num_workers=4)\n",
    "\n",
    "cls = CNNClassifier(num_classes=196, pretrained=True, model_name=\"resnet18\", freeze_layers=0)\n",
    "cls.load_state_dict(torch.load(\"../webapp_result/r18_pretrained_freeze0/model.pth\", weights_only=True))\n",
    "cls.eval()\n",
    "cls = cls.to(device)"
   ],
   "outputs": [],
   "execution_count": 3
  },
  {
   "metadata": {
    "ExecuteTime": {
     "end_time": "2025-08-19T09:21:41.891969Z",
     "start_time": "2025-08-19T09:17:31.566425Z"
    }
   },
   "cell_type": "code",
   "source": [
    "from tqdm import tqdm\n",
    "\n",
    "preds, trues, entropy_list = [], [], []\n",
    "criterion = CrossEntropyLoss().to(device)\n",
    "\n",
    "for idx, (x, y) in enumerate(tqdm(test_loader), 1):\n",
    "    x, y = x.to(device), y.to(device)\n",
    "    x.requires_grad_(True)\n",
    "\n",
    "    loss = criterion(cls(x), y)\n",
    "    cls.zero_grad()\n",
    "    loss.backward()\n",
    "\n",
    "    with torch.no_grad():\n",
    "        adv_logits = cls(x + .007 * torch.sign(x.grad))\n",
    "        entropy_list.append(entropy(torch.softmax(adv_logits, dim=1).cpu().numpy()))\n",
    "\n",
    "    predictions = torch.argmax(adv_logits, dim=1)\n",
    "    preds.append(predictions)\n",
    "    trues.append(y)\n",
    "\n",
    "# Concatenate all predictions, true labels, and losses\n",
    "preds = torch.cat(preds).cpu().numpy()\n",
    "trues = torch.cat(trues).cpu().numpy()\n",
    "entropy_list = torch.tensor(np.asarray(entropy_list))\n",
    "\n",
    "f1_mean = f1_score(trues, preds, average='weighted')\n",
    "acc_mean = accuracy_score(trues, preds)"
   ],
   "id": "57b5974ee7a526a2",
   "outputs": [
    {
     "name": "stderr",
     "output_type": "stream",
     "text": [
      "100%|██████████| 126/126 [04:10<00:00,  1.99s/it]\n"
     ]
    }
   ],
   "execution_count": 4
  },
  {
   "metadata": {
    "ExecuteTime": {
     "end_time": "2025-08-19T09:21:42.207683Z",
     "start_time": "2025-08-19T09:21:42.205133Z"
    }
   },
   "cell_type": "code",
   "source": "print(entropy_list.mean(), entropy_list.std())",
   "id": "96e335f152d620ce",
   "outputs": [
    {
     "name": "stdout",
     "output_type": "stream",
     "text": [
      "tensor(2.6262) tensor(0.8036)\n"
     ]
    }
   ],
   "execution_count": 5
  },
  {
   "metadata": {
    "ExecuteTime": {
     "end_time": "2025-08-19T09:21:42.212338Z",
     "start_time": "2025-08-19T09:21:42.209761Z"
    }
   },
   "cell_type": "code",
   "source": "f1_mean",
   "id": "c8017e94319d565",
   "outputs": [
    {
     "data": {
      "text/plain": [
       "0.12186538816469347"
      ]
     },
     "execution_count": 6,
     "metadata": {},
     "output_type": "execute_result"
    }
   ],
   "execution_count": 6
  },
  {
   "metadata": {
    "ExecuteTime": {
     "end_time": "2025-08-19T09:21:42.225958Z",
     "start_time": "2025-08-19T09:21:42.224173Z"
    }
   },
   "cell_type": "code",
   "source": "acc_mean",
   "id": "1b4434aeee5cd5ab",
   "outputs": [
    {
     "data": {
      "text/plain": [
       "0.11677652033329187"
      ]
     },
     "execution_count": 7,
     "metadata": {},
     "output_type": "execute_result"
    }
   ],
   "execution_count": 7
  }
 ],
 "metadata": {
  "kernelspec": {
   "display_name": "Python 3",
   "language": "python",
   "name": "python3"
  },
  "language_info": {
   "codemirror_mode": {
    "name": "ipython",
    "version": 2
   },
   "file_extension": ".py",
   "mimetype": "text/x-python",
   "name": "python",
   "nbconvert_exporter": "python",
   "pygments_lexer": "ipython2",
   "version": "2.7.6"
  }
 },
 "nbformat": 4,
 "nbformat_minor": 5
}
