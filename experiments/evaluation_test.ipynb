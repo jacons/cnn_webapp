{
 "cells": [
  {
   "metadata": {
    "ExecuteTime": {
     "end_time": "2025-07-07T16:29:28.429952Z",
     "start_time": "2025-07-07T16:29:26.914062Z"
    }
   },
   "cell_type": "code",
   "source": [
    "import torch\n",
    "\n",
    "from model.resnet_model import CNNClassifier\n",
    "from torch.utils.data import DataLoader\n",
    "from pathlib import Path\n",
    "from ml_utils import CustomDataset\n",
    "\n",
    "from sklearn.metrics import f1_score, accuracy_score\n",
    "from torch.nn import CrossEntropyLoss\n",
    "\n",
    "from tqdm import tqdm"
   ],
   "id": "10cd4925cbcab4f1",
   "outputs": [],
   "execution_count": 1
  },
  {
   "metadata": {
    "ExecuteTime": {
     "end_time": "2025-07-07T16:29:28.539863Z",
     "start_time": "2025-07-07T16:29:28.538277Z"
    }
   },
   "cell_type": "code",
   "source": "device = \"mps\"",
   "id": "79ae25eeb74dd76d",
   "outputs": [],
   "execution_count": 2
  },
  {
   "cell_type": "code",
   "id": "initial_id",
   "metadata": {
    "collapsed": true,
    "ExecuteTime": {
     "end_time": "2025-07-07T16:29:28.718234Z",
     "start_time": "2025-07-07T16:29:28.546310Z"
    }
   },
   "source": [
    "test_dt = CustomDataset(data_path=Path(\"../datasets/car_dataset\"), portion=\"test\")\n",
    "test_loader = DataLoader(test_dt, batch_size=64, shuffle=True, num_workers=4)\n",
    "\n",
    "cls = CNNClassifier(num_classes=196, pretrained=True, model_name=\"resnet18\", freeze_layers=0)\n",
    "cls.load_state_dict(torch.load(\"../experiments/results/r18_pretrained_fre0.pth\", weights_only=True))\n",
    "cls.eval()\n",
    "cls = cls.to(device)"
   ],
   "outputs": [],
   "execution_count": 3
  },
  {
   "metadata": {
    "ExecuteTime": {
     "end_time": "2025-07-07T16:30:40.304254Z",
     "start_time": "2025-07-07T16:29:28.723538Z"
    }
   },
   "cell_type": "code",
   "source": [
    "\n",
    "losses, preds, trues = [], [], []\n",
    "criterion = CrossEntropyLoss().to(device)\n",
    "\n",
    "with torch.no_grad():  # Disable gradient calculations for inference\n",
    "    for idx, (x, y) in enumerate(tqdm(test_loader), 1):\n",
    "        if device != \"cpu\":\n",
    "            x, y = x.to(device), y.to(device)  # Move data to the specified device\n",
    "        logits = cls(x)  # Forward pass\n",
    "        loss = criterion(logits, y)  # Calculate loss\n",
    "        predictions = torch.argmax(logits, dim=1)  # Get class predictions\n",
    "\n",
    "        losses.append(loss)\n",
    "        preds.append(predictions)\n",
    "        trues.append(y)\n",
    "\n",
    "    # Concatenate all predictions, true labels, and losses\n",
    "    preds = torch.cat(preds).cpu().numpy()\n",
    "    trues = torch.cat(trues).cpu().numpy()\n",
    "    losses_tensor = torch.stack(losses)\n",
    "\n",
    "# Calculate and store metrics\n",
    "loss_mean = losses_tensor.mean().item()\n",
    "loss_std = losses_tensor.std().item()\n",
    "f1_mean = f1_score(trues, preds, average='weighted')\n",
    "acc_mean = accuracy_score(trues, preds)"
   ],
   "id": "57b5974ee7a526a2",
   "outputs": [
    {
     "name": "stderr",
     "output_type": "stream",
     "text": [
      "100%|██████████| 126/126 [01:11<00:00,  1.77it/s]\n"
     ]
    }
   ],
   "execution_count": 4
  },
  {
   "metadata": {
    "ExecuteTime": {
     "end_time": "2025-07-07T16:30:40.707204Z",
     "start_time": "2025-07-07T16:30:40.704007Z"
    }
   },
   "cell_type": "code",
   "source": "loss_mean",
   "id": "a41bc8032c98d340",
   "outputs": [
    {
     "data": {
      "text/plain": [
       "0.5139766335487366"
      ]
     },
     "execution_count": 5,
     "metadata": {},
     "output_type": "execute_result"
    }
   ],
   "execution_count": 5
  },
  {
   "metadata": {
    "ExecuteTime": {
     "end_time": "2025-07-07T16:30:40.996887Z",
     "start_time": "2025-07-07T16:30:40.994065Z"
    }
   },
   "cell_type": "code",
   "source": "f1_mean",
   "id": "c8017e94319d565",
   "outputs": [
    {
     "data": {
      "text/plain": [
       "0.8835541083535506"
      ]
     },
     "execution_count": 6,
     "metadata": {},
     "output_type": "execute_result"
    }
   ],
   "execution_count": 6
  },
  {
   "metadata": {
    "ExecuteTime": {
     "end_time": "2025-07-07T16:30:51.515530Z",
     "start_time": "2025-07-07T16:30:51.512817Z"
    }
   },
   "cell_type": "code",
   "source": "acc_mean",
   "id": "1b4434aeee5cd5ab",
   "outputs": [
    {
     "data": {
      "text/plain": [
       "0.8838452928740207"
      ]
     },
     "execution_count": 8,
     "metadata": {},
     "output_type": "execute_result"
    }
   ],
   "execution_count": 8
  }
 ],
 "metadata": {
  "kernelspec": {
   "display_name": "Python 3",
   "language": "python",
   "name": "python3"
  },
  "language_info": {
   "codemirror_mode": {
    "name": "ipython",
    "version": 2
   },
   "file_extension": ".py",
   "mimetype": "text/x-python",
   "name": "python",
   "nbconvert_exporter": "python",
   "pygments_lexer": "ipython2",
   "version": "2.7.6"
  }
 },
 "nbformat": 4,
 "nbformat_minor": 5
}
