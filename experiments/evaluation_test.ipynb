{
 "cells": [
  {
   "metadata": {
    "ExecuteTime": {
     "end_time": "2025-07-10T14:39:24.733576Z",
     "start_time": "2025-07-10T14:39:22.989569Z"
    }
   },
   "cell_type": "code",
   "source": [
    "import numpy as np\n",
    "import torch\n",
    "\n",
    "from model.resnet_model import CNNClassifier\n",
    "from torch.utils.data import DataLoader\n",
    "from pathlib import Path\n",
    "from ml_utils import CustomDataset\n",
    "\n",
    "from sklearn.metrics import f1_score, accuracy_score\n",
    "from torch.nn import CrossEntropyLoss\n",
    "from scipy.stats import entropy\n",
    "\n",
    "from tqdm import tqdm"
   ],
   "id": "10cd4925cbcab4f1",
   "outputs": [],
   "execution_count": 1
  },
  {
   "metadata": {
    "ExecuteTime": {
     "end_time": "2025-07-10T14:39:24.833864Z",
     "start_time": "2025-07-10T14:39:24.831518Z"
    }
   },
   "cell_type": "code",
   "source": "device = \"mps\"",
   "id": "79ae25eeb74dd76d",
   "outputs": [],
   "execution_count": 2
  },
  {
   "cell_type": "code",
   "id": "initial_id",
   "metadata": {
    "collapsed": true,
    "ExecuteTime": {
     "end_time": "2025-07-10T14:39:25.052740Z",
     "start_time": "2025-07-10T14:39:24.847435Z"
    }
   },
   "source": [
    "test_dt = CustomDataset(data_path=Path(\"../datasets/car_dataset\"), portion=\"test\")\n",
    "test_loader = DataLoader(test_dt, batch_size=64, shuffle=True, num_workers=4)\n",
    "\n",
    "cls = CNNClassifier(num_classes=196, pretrained=True, model_name=\"resnet18\", freeze_layers=0)\n",
    "cls.load_state_dict(torch.load(\"../experiments/results/r18_pretrained_fre0.pth\", weights_only=True))\n",
    "cls.eval()\n",
    "cls = cls.to(device)"
   ],
   "outputs": [],
   "execution_count": 3
  },
  {
   "metadata": {
    "ExecuteTime": {
     "end_time": "2025-07-10T14:40:37.301010Z",
     "start_time": "2025-07-10T14:39:25.058588Z"
    }
   },
   "cell_type": "code",
   "source": [
    "\n",
    "\n",
    "losses, preds, trues, entropy_list = [], [], [], []\n",
    "criterion = CrossEntropyLoss().to(device)\n",
    "\n",
    "with torch.no_grad():  # Disable gradient calculations for inference\n",
    "    for idx, (x, y) in enumerate(tqdm(test_loader), 1):\n",
    "        if device != \"cpu\":\n",
    "            x, y = x.to(device), y.to(device)  # Move data to the specified device\n",
    "        logits = cls(x)  # Forward pass\n",
    "        loss = criterion(logits, y)  # Calculate loss\n",
    "        entropy_list.append(entropy(torch.softmax(logits, dim=1).cpu().numpy()))\n",
    "        predictions = torch.argmax(logits, dim=1)  # Get class predictions\n",
    "\n",
    "        losses.append(loss)\n",
    "        preds.append(predictions)\n",
    "        trues.append(y)\n",
    "\n",
    "    # Concatenate all predictions, true labels, and losses\n",
    "    preds = torch.cat(preds).cpu().numpy()\n",
    "    trues = torch.cat(trues).cpu().numpy()\n",
    "    losses_tensor = torch.stack(losses)\n",
    "    entropy_list = torch.tensor(np.asarray(entropy_list))\n",
    "\n",
    "# Calculate and store metrics\n",
    "loss_mean = losses_tensor.mean().item()\n",
    "loss_std = losses_tensor.std().item()\n",
    "f1_mean = f1_score(trues, preds, average='weighted')\n",
    "acc_mean = accuracy_score(trues, preds)"
   ],
   "id": "57b5974ee7a526a2",
   "outputs": [
    {
     "name": "stderr",
     "output_type": "stream",
     "text": [
      "100%|██████████| 126/126 [01:12<00:00,  1.75it/s]\n"
     ]
    }
   ],
   "execution_count": 4
  },
  {
   "metadata": {
    "ExecuteTime": {
     "end_time": "2025-07-10T14:40:37.728209Z",
     "start_time": "2025-07-10T14:40:37.725565Z"
    }
   },
   "cell_type": "code",
   "source": "print(entropy_list.mean(), entropy_list.std())",
   "id": "17825d7e787b399b",
   "outputs": [
    {
     "name": "stdout",
     "output_type": "stream",
     "text": [
      "tensor(1.4531) tensor(0.8601)\n"
     ]
    }
   ],
   "execution_count": 5
  },
  {
   "metadata": {
    "ExecuteTime": {
     "end_time": "2025-07-10T14:40:37.735711Z",
     "start_time": "2025-07-10T14:40:37.732783Z"
    }
   },
   "cell_type": "code",
   "source": "loss_mean",
   "id": "a41bc8032c98d340",
   "outputs": [
    {
     "data": {
      "text/plain": [
       "0.5134310126304626"
      ]
     },
     "execution_count": 6,
     "metadata": {},
     "output_type": "execute_result"
    }
   ],
   "execution_count": 6
  },
  {
   "metadata": {
    "ExecuteTime": {
     "end_time": "2025-07-10T14:40:38.319545Z",
     "start_time": "2025-07-10T14:40:38.316945Z"
    }
   },
   "cell_type": "code",
   "source": "f1_mean",
   "id": "c8017e94319d565",
   "outputs": [
    {
     "data": {
      "text/plain": [
       "0.8835541083535506"
      ]
     },
     "execution_count": 7,
     "metadata": {},
     "output_type": "execute_result"
    }
   ],
   "execution_count": 7
  },
  {
   "metadata": {
    "ExecuteTime": {
     "end_time": "2025-07-10T14:40:38.613699Z",
     "start_time": "2025-07-10T14:40:38.611318Z"
    }
   },
   "cell_type": "code",
   "source": "acc_mean",
   "id": "1b4434aeee5cd5ab",
   "outputs": [
    {
     "data": {
      "text/plain": [
       "0.8838452928740207"
      ]
     },
     "execution_count": 8,
     "metadata": {},
     "output_type": "execute_result"
    }
   ],
   "execution_count": 8
  }
 ],
 "metadata": {
  "kernelspec": {
   "display_name": "Python 3",
   "language": "python",
   "name": "python3"
  },
  "language_info": {
   "codemirror_mode": {
    "name": "ipython",
    "version": 2
   },
   "file_extension": ".py",
   "mimetype": "text/x-python",
   "name": "python",
   "nbconvert_exporter": "python",
   "pygments_lexer": "ipython2",
   "version": "2.7.6"
  }
 },
 "nbformat": 4,
 "nbformat_minor": 5
}
