{
 "cells": [
  {
   "metadata": {},
   "cell_type": "markdown",
   "source": "# Evaluation of the model on the test dataset",
   "id": "dd583606342c4c25"
  },
  {
   "metadata": {},
   "cell_type": "code",
   "outputs": [],
   "execution_count": null,
   "source": [
    "from pathlib import Path\n",
    "\n",
    "import numpy as np\n",
    "import torch\n",
    "from scipy.stats import entropy\n",
    "from sklearn.metrics import f1_score, accuracy_score\n",
    "from torch.nn import CrossEntropyLoss\n",
    "from torch.utils.data import DataLoader\n",
    "from tqdm import tqdm\n",
    "\n",
    "from ml_utils import CustomDataset\n",
    "from model.resnet_model import CNNClassifier"
   ],
   "id": "bf74c92e2c19ad36"
  },
  {
   "metadata": {},
   "cell_type": "code",
   "outputs": [],
   "execution_count": null,
   "source": "device = \"mps\"",
   "id": "bbd4a238e2970c9f"
  },
  {
   "cell_type": "code",
   "id": "initial_id",
   "metadata": {
    "collapsed": true,
    "ExecuteTime": {
     "end_time": "2025-08-19T07:19:31.062693Z",
     "start_time": "2025-08-19T07:19:30.850333Z"
    }
   },
   "source": [
    "test_dt = CustomDataset(data_path=Path(\"../datasets/car_dataset\"), portion=\"test\")\n",
    "test_loader = DataLoader(test_dt, batch_size=64, shuffle=True, num_workers=4)\n",
    "\n",
    "cls = CNNClassifier(num_classes=196, pretrained=True, model_name=\"resnet18\")\n",
    "cls.load_state_dict(torch.load(\"../webapp_result/r18_pretrained_freeze0/model.pth\", weights_only=True))\n",
    "cls.eval()\n",
    "cls = cls.to(device)"
   ],
   "outputs": [],
   "execution_count": 3
  },
  {
   "metadata": {
    "ExecuteTime": {
     "end_time": "2025-08-19T07:20:41.871613Z",
     "start_time": "2025-08-19T07:19:31.065197Z"
    }
   },
   "cell_type": "code",
   "source": [
    "losses, preds, trues, entropy_list = [], [], [], []\n",
    "criterion = CrossEntropyLoss().to(device)\n",
    "\n",
    "with torch.no_grad():\n",
    "    for idx, (x, y) in enumerate(tqdm(test_loader), 1):\n",
    "        if device != \"cpu\":\n",
    "            x, y = x.to(device), y.to(device)\n",
    "        logits = cls(x)\n",
    "        loss = criterion(logits, y)\n",
    "        entropy_list.append(entropy(torch.softmax(logits, dim=1).cpu().numpy()))\n",
    "        predictions = torch.argmax(logits, dim=1)\n",
    "\n",
    "        losses.append(loss)\n",
    "        preds.append(predictions)\n",
    "        trues.append(y)\n",
    "\n",
    "    # Concatenate all predictions, true labels, and losses\n",
    "    preds = torch.cat(preds).cpu().numpy()\n",
    "    trues = torch.cat(trues).cpu().numpy()\n",
    "    losses_tensor = torch.stack(losses)\n",
    "    entropy_list = torch.tensor(np.asarray(entropy_list))\n",
    "\n",
    "# Calculate and store metrics\n",
    "loss_mean = losses_tensor.mean().item()\n",
    "loss_std = losses_tensor.std().item()\n",
    "f1_mean = f1_score(trues, preds, average='weighted')\n",
    "acc_mean = accuracy_score(trues, preds)"
   ],
   "id": "48295a2309614b9e",
   "outputs": [
    {
     "name": "stderr",
     "output_type": "stream",
     "text": [
      "100%|██████████| 126/126 [01:10<00:00,  1.78it/s]\n"
     ]
    }
   ],
   "execution_count": 4
  },
  {
   "metadata": {
    "ExecuteTime": {
     "end_time": "2025-08-19T07:20:42.314019Z",
     "start_time": "2025-08-19T07:20:42.311379Z"
    }
   },
   "cell_type": "code",
   "source": "print(entropy_list.mean(), entropy_list.std())",
   "id": "80fce9d960721b03",
   "outputs": [
    {
     "name": "stdout",
     "output_type": "stream",
     "text": [
      "tensor(1.4588) tensor(0.8639)\n"
     ]
    }
   ],
   "execution_count": 5
  },
  {
   "metadata": {
    "ExecuteTime": {
     "end_time": "2025-08-19T07:20:42.318840Z",
     "start_time": "2025-08-19T07:20:42.316551Z"
    }
   },
   "cell_type": "code",
   "source": "loss_mean",
   "id": "a41bc8032c98d340",
   "outputs": [
    {
     "data": {
      "text/plain": [
       "0.5138686895370483"
      ]
     },
     "execution_count": 6,
     "metadata": {},
     "output_type": "execute_result"
    }
   ],
   "execution_count": 6
  },
  {
   "metadata": {
    "ExecuteTime": {
     "end_time": "2025-08-19T07:20:42.323145Z",
     "start_time": "2025-08-19T07:20:42.321428Z"
    }
   },
   "cell_type": "code",
   "source": "f1_mean",
   "id": "c8017e94319d565",
   "outputs": [
    {
     "data": {
      "text/plain": [
       "0.8835541083535506"
      ]
     },
     "execution_count": 7,
     "metadata": {},
     "output_type": "execute_result"
    }
   ],
   "execution_count": 7
  },
  {
   "metadata": {
    "ExecuteTime": {
     "end_time": "2025-08-19T07:20:42.327141Z",
     "start_time": "2025-08-19T07:20:42.325347Z"
    }
   },
   "cell_type": "code",
   "source": "acc_mean",
   "id": "1b4434aeee5cd5ab",
   "outputs": [
    {
     "data": {
      "text/plain": [
       "0.8838452928740207"
      ]
     },
     "execution_count": 8,
     "metadata": {},
     "output_type": "execute_result"
    }
   ],
   "execution_count": 8
  }
 ],
 "metadata": {
  "kernelspec": {
   "display_name": "Python 3",
   "language": "python",
   "name": "python3"
  },
  "language_info": {
   "codemirror_mode": {
    "name": "ipython",
    "version": 2
   },
   "file_extension": ".py",
   "mimetype": "text/x-python",
   "name": "python",
   "nbconvert_exporter": "python",
   "pygments_lexer": "ipython2",
   "version": "2.7.6"
  }
 },
 "nbformat": 4,
 "nbformat_minor": 5
}
